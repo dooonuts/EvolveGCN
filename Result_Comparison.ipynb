{
 "cells": [
  {
   "cell_type": "code",
   "execution_count": 1,
   "id": "208242ce-defa-47d4-a3e9-3b1547c314fe",
   "metadata": {},
   "outputs": [],
   "source": [
    "import pandas as pd\n",
    "\n",
    "edges_pred = pd.read_csv(\"./predicted_edges_14_2.csv\")\n",
    "edges_true = pd.read_csv(\"./true_edges.csv\")\n",
    "all_edges = pd.read_csv(\"./data/alpha_0.35_beta_0.9_gamma_0.35_f_i_1_16_days.csv\")"
   ]
  },
  {
   "cell_type": "code",
   "execution_count": 34,
   "id": "2ed55c2d-602c-4cde-8e1c-5bc79f13e683",
   "metadata": {},
   "outputs": [
    {
     "name": "stderr",
     "output_type": "stream",
     "text": [
      "/tmp/ipykernel_1994/3308126861.py:13: SettingWithCopyWarning: \n",
      "A value is trying to be set on a copy of a slice from a DataFrame\n",
      "\n",
      "See the caveats in the documentation: https://pandas.pydata.org/pandas-docs/stable/user_guide/indexing.html#returning-a-view-versus-a-copy\n",
      "  df_combined[\"Labels\"][idx]=\"Pred\"\n",
      "/tmp/ipykernel_1994/3308126861.py:14: SettingWithCopyWarning: \n",
      "A value is trying to be set on a copy of a slice from a DataFrame\n",
      "\n",
      "See the caveats in the documentation: https://pandas.pydata.org/pandas-docs/stable/user_guide/indexing.html#returning-a-view-versus-a-copy\n",
      "  df_combined[\"Pred\"][idx]=1\n",
      "/tmp/ipykernel_1994/3308126861.py:19: SettingWithCopyWarning: \n",
      "A value is trying to be set on a copy of a slice from a DataFrame\n",
      "\n",
      "See the caveats in the documentation: https://pandas.pydata.org/pandas-docs/stable/user_guide/indexing.html#returning-a-view-versus-a-copy\n",
      "  df_combined[\"Labels\"][idx]=\"Both\"\n",
      "/tmp/ipykernel_1994/3308126861.py:20: SettingWithCopyWarning: \n",
      "A value is trying to be set on a copy of a slice from a DataFrame\n",
      "\n",
      "See the caveats in the documentation: https://pandas.pydata.org/pandas-docs/stable/user_guide/indexing.html#returning-a-view-versus-a-copy\n",
      "  df_combined[\"True\"][idx]=1\n",
      "/tmp/ipykernel_1994/3308126861.py:21: SettingWithCopyWarning: \n",
      "A value is trying to be set on a copy of a slice from a DataFrame\n",
      "\n",
      "See the caveats in the documentation: https://pandas.pydata.org/pandas-docs/stable/user_guide/indexing.html#returning-a-view-versus-a-copy\n",
      "  df_combined[\"Pred\"][idx]=1\n"
     ]
    },
    {
     "name": "stdout",
     "output_type": "stream",
     "text": [
      "          0      1       Exist Pred True Labels\n",
      "0        52  21747   left_only    1        Pred\n",
      "1        59  19985   left_only    1        Pred\n",
      "2        62  31783   left_only    1        Pred\n",
      "3        63  17527   left_only    1        Pred\n",
      "4        69  18344   left_only    1        Pred\n",
      "...     ...    ...         ...  ...  ...    ...\n",
      "4671  32509  18080  right_only         1   True\n",
      "4672  33596  14421  right_only         1   True\n",
      "4673  33629  12174  right_only         1   True\n",
      "4674  33746  24173  right_only         1   True\n",
      "4675  34067   7576  right_only         1   True\n",
      "\n",
      "[4676 rows x 6 columns]\n"
     ]
    },
    {
     "name": "stderr",
     "output_type": "stream",
     "text": [
      "/tmp/ipykernel_1994/3308126861.py:16: SettingWithCopyWarning: \n",
      "A value is trying to be set on a copy of a slice from a DataFrame\n",
      "\n",
      "See the caveats in the documentation: https://pandas.pydata.org/pandas-docs/stable/user_guide/indexing.html#returning-a-view-versus-a-copy\n",
      "  df_combined[\"Labels\"][idx]=\"True\"\n",
      "/tmp/ipykernel_1994/3308126861.py:17: SettingWithCopyWarning: \n",
      "A value is trying to be set on a copy of a slice from a DataFrame\n",
      "\n",
      "See the caveats in the documentation: https://pandas.pydata.org/pandas-docs/stable/user_guide/indexing.html#returning-a-view-versus-a-copy\n",
      "  df_combined[\"True\"][idx]=1\n"
     ]
    }
   ],
   "source": [
    "df_combined = pd.merge(edges_pred, edges_true, on=['0','1'], how='outer', indicator='Exist')\n",
    "# print(df_combined)\n",
    "df_combined[\"Pred\"]=\"\"\n",
    "df_combined[\"True\"]=\"\"\n",
    "df_combined[\"Labels\"]=\"\"\n",
    "# pred = df_combined[\"Exist\"]==\"left_only\"\n",
    "\n",
    "for idx, row in enumerate(df_combined.iterrows()):\n",
    "    # if(idx<5):\n",
    "        # print(row)\n",
    "        # print(row[1][2])\n",
    "    if(row[1][2]==\"left_only\"):\n",
    "        df_combined[\"Labels\"][idx]=\"Pred\"\n",
    "        df_combined[\"Pred\"][idx]=1\n",
    "    if(row[1][2]==\"right_only\"):\n",
    "        df_combined[\"Labels\"][idx]=\"True\"\n",
    "        df_combined[\"True\"][idx]=1\n",
    "    if(row[1][2]==\"both\"):\n",
    "        df_combined[\"Labels\"][idx]=\"Both\"\n",
    "        df_combined[\"True\"][idx]=1   \n",
    "        df_combined[\"Pred\"][idx]=1\n",
    "print(df_combined)"
   ]
  },
  {
   "cell_type": "code",
   "execution_count": 5,
   "id": "c8b2d403-a312-49e3-aacf-834a2091e49a",
   "metadata": {},
   "outputs": [
    {
     "name": "stdout",
     "output_type": "stream",
     "text": [
      "(429, 2)\n",
      "(4480, 2)\n"
     ]
    }
   ],
   "source": [
    "print(edges_true.shape)\n",
    "print(edges_pred.shape)"
   ]
  },
  {
   "cell_type": "code",
   "execution_count": null,
   "id": "84804cbe-2b5e-445f-b77b-31f7e7a1e991",
   "metadata": {},
   "outputs": [],
   "source": [
    "df_combined[\"Label\"]=\"\"\n",
    "for row in iterrows()"
   ]
  },
  {
   "cell_type": "code",
   "execution_count": 35,
   "id": "55c7ac3b-6e7a-4d08-a0ac-e25b13863342",
   "metadata": {},
   "outputs": [],
   "source": [
    "df_combined.to_csv(\"./predicted_vs_true_14.csv\",index=False)\n"
   ]
  },
  {
   "cell_type": "code",
   "execution_count": 35,
   "id": "a7fdc8fa-d6ef-4a2d-9f01-cf835d068f63",
   "metadata": {},
   "outputs": [
    {
     "name": "stdout",
     "output_type": "stream",
     "text": [
      "         0.0  0.0.1  0.0.2  0.0.3\n",
      "0      30216   7611      1      1\n",
      "1      30216   8550      1      1\n",
      "2      25447   8550      1      1\n",
      "3       4191   8550      1      1\n",
      "4       1588   8550      1      1\n",
      "...      ...    ...    ...    ...\n",
      "39290  12865   6144      1     16\n",
      "39291  25694   6144      1     16\n",
      "39292  20727  10846      1     16\n",
      "39293  31955  23268      1     16\n",
      "39294  27172  23268      1     16\n",
      "\n",
      "[39295 rows x 4 columns]\n"
     ]
    }
   ],
   "source": [
    "# print(all_edges)\n",
    "df2 = all_edges.iloc[:,0:2]"
   ]
  },
  {
   "cell_type": "code",
   "execution_count": 30,
   "id": "6595f0f7-f6a2-4485-9883-62dc6daa1698",
   "metadata": {},
   "outputs": [
    {
     "data": {
      "text/html": [
       "<div>\n",
       "<style scoped>\n",
       "    .dataframe tbody tr th:only-of-type {\n",
       "        vertical-align: middle;\n",
       "    }\n",
       "\n",
       "    .dataframe tbody tr th {\n",
       "        vertical-align: top;\n",
       "    }\n",
       "\n",
       "    .dataframe thead th {\n",
       "        text-align: right;\n",
       "    }\n",
       "</style>\n",
       "<table border=\"1\" class=\"dataframe\">\n",
       "  <thead>\n",
       "    <tr style=\"text-align: right;\">\n",
       "      <th></th>\n",
       "      <th>Source</th>\n",
       "      <th>Target</th>\n",
       "    </tr>\n",
       "  </thead>\n",
       "  <tbody>\n",
       "    <tr>\n",
       "      <th>0</th>\n",
       "      <td>280</td>\n",
       "      <td>16980</td>\n",
       "    </tr>\n",
       "    <tr>\n",
       "      <th>1</th>\n",
       "      <td>280</td>\n",
       "      <td>31715</td>\n",
       "    </tr>\n",
       "    <tr>\n",
       "      <th>2</th>\n",
       "      <td>654</td>\n",
       "      <td>15270</td>\n",
       "    </tr>\n",
       "    <tr>\n",
       "      <th>3</th>\n",
       "      <td>654</td>\n",
       "      <td>25567</td>\n",
       "    </tr>\n",
       "    <tr>\n",
       "      <th>4</th>\n",
       "      <td>654</td>\n",
       "      <td>29566</td>\n",
       "    </tr>\n",
       "    <tr>\n",
       "      <th>...</th>\n",
       "      <td>...</td>\n",
       "      <td>...</td>\n",
       "    </tr>\n",
       "    <tr>\n",
       "      <th>424</th>\n",
       "      <td>34189</td>\n",
       "      <td>23850</td>\n",
       "    </tr>\n",
       "    <tr>\n",
       "      <th>425</th>\n",
       "      <td>34468</td>\n",
       "      <td>17374</td>\n",
       "    </tr>\n",
       "    <tr>\n",
       "      <th>426</th>\n",
       "      <td>34468</td>\n",
       "      <td>29813</td>\n",
       "    </tr>\n",
       "    <tr>\n",
       "      <th>427</th>\n",
       "      <td>34707</td>\n",
       "      <td>23850</td>\n",
       "    </tr>\n",
       "    <tr>\n",
       "      <th>428</th>\n",
       "      <td>34707</td>\n",
       "      <td>24937</td>\n",
       "    </tr>\n",
       "  </tbody>\n",
       "</table>\n",
       "<p>429 rows × 2 columns</p>\n",
       "</div>"
      ],
      "text/plain": [
       "     Source  Target\n",
       "0       280   16980\n",
       "1       280   31715\n",
       "2       654   15270\n",
       "3       654   25567\n",
       "4       654   29566\n",
       "..      ...     ...\n",
       "424   34189   23850\n",
       "425   34468   17374\n",
       "426   34468   29813\n",
       "427   34707   23850\n",
       "428   34707   24937\n",
       "\n",
       "[429 rows x 2 columns]"
      ]
     },
     "execution_count": 30,
     "metadata": {},
     "output_type": "execute_result"
    }
   ],
   "source": []
  },
  {
   "cell_type": "code",
   "execution_count": 28,
   "id": "1c5ceb94-b435-4c5d-a05f-6ef9746cc5da",
   "metadata": {},
   "outputs": [
    {
     "data": {
      "text/html": [
       "<div>\n",
       "<style scoped>\n",
       "    .dataframe tbody tr th:only-of-type {\n",
       "        vertical-align: middle;\n",
       "    }\n",
       "\n",
       "    .dataframe tbody tr th {\n",
       "        vertical-align: top;\n",
       "    }\n",
       "\n",
       "    .dataframe thead th {\n",
       "        text-align: right;\n",
       "    }\n",
       "</style>\n",
       "<table border=\"1\" class=\"dataframe\">\n",
       "  <thead>\n",
       "    <tr style=\"text-align: right;\">\n",
       "      <th></th>\n",
       "      <th>Source</th>\n",
       "      <th>Target</th>\n",
       "    </tr>\n",
       "  </thead>\n",
       "  <tbody>\n",
       "    <tr>\n",
       "      <th>37838</th>\n",
       "      <td>280</td>\n",
       "      <td>16980</td>\n",
       "    </tr>\n",
       "    <tr>\n",
       "      <th>38137</th>\n",
       "      <td>280</td>\n",
       "      <td>31715</td>\n",
       "    </tr>\n",
       "    <tr>\n",
       "      <th>38002</th>\n",
       "      <td>654</td>\n",
       "      <td>29566</td>\n",
       "    </tr>\n",
       "    <tr>\n",
       "      <th>38111</th>\n",
       "      <td>654</td>\n",
       "      <td>25567</td>\n",
       "    </tr>\n",
       "    <tr>\n",
       "      <th>38061</th>\n",
       "      <td>654</td>\n",
       "      <td>15270</td>\n",
       "    </tr>\n",
       "    <tr>\n",
       "      <th>...</th>\n",
       "      <td>...</td>\n",
       "      <td>...</td>\n",
       "    </tr>\n",
       "    <tr>\n",
       "      <th>37930</th>\n",
       "      <td>34189</td>\n",
       "      <td>23850</td>\n",
       "    </tr>\n",
       "    <tr>\n",
       "      <th>37868</th>\n",
       "      <td>34468</td>\n",
       "      <td>17374</td>\n",
       "    </tr>\n",
       "    <tr>\n",
       "      <th>38019</th>\n",
       "      <td>34468</td>\n",
       "      <td>29813</td>\n",
       "    </tr>\n",
       "    <tr>\n",
       "      <th>37929</th>\n",
       "      <td>34707</td>\n",
       "      <td>23850</td>\n",
       "    </tr>\n",
       "    <tr>\n",
       "      <th>37753</th>\n",
       "      <td>34707</td>\n",
       "      <td>24937</td>\n",
       "    </tr>\n",
       "  </tbody>\n",
       "</table>\n",
       "<p>429 rows × 2 columns</p>\n",
       "</div>"
      ],
      "text/plain": [
       "       Source  Target\n",
       "37838     280   16980\n",
       "38137     280   31715\n",
       "38002     654   29566\n",
       "38111     654   25567\n",
       "38061     654   15270\n",
       "...       ...     ...\n",
       "37930   34189   23850\n",
       "37868   34468   17374\n",
       "38019   34468   29813\n",
       "37929   34707   23850\n",
       "37753   34707   24937\n",
       "\n",
       "[429 rows x 2 columns]"
      ]
     },
     "execution_count": 28,
     "metadata": {},
     "output_type": "execute_result"
    }
   ],
   "source": [
    "# day_14_edges = all_edges.loc[all_edges['0.0.3'] == 14].iloc[:,0:2].copy()\n",
    "# day_14_edges_sorted = day_14_edges.sort_values(day_14_edges.columns[0], ascending = True)\n",
    "# # day_14_edges_sorted.reset_index(inplace=True)\n",
    "# day_14_edges_sorted.rename(columns={\"0.0\": \"Source\", \"0.0.1\": \"Target\"})"
   ]
  },
  {
   "cell_type": "code",
   "execution_count": null,
   "id": "6b4e6761-dcfc-4a75-b32c-a1e4629a3374",
   "metadata": {},
   "outputs": [],
   "source": [
    "df_combined = day_14_edges_sorted"
   ]
  },
  {
   "cell_type": "code",
   "execution_count": 11,
   "id": "209bae06-5a6c-41f3-b9ad-9c88f8ada1f3",
   "metadata": {},
   "outputs": [],
   "source": [
    "df_new = pd.concat([edges_true, day_14_edges_sorted, day_14_edges_sorted]).drop_duplicates(keep=False)"
   ]
  },
  {
   "cell_type": "code",
   "execution_count": 12,
   "id": "d16e3cdd-dff6-4bf3-a164-d6b6721bf917",
   "metadata": {},
   "outputs": [
    {
     "data": {
      "text/plain": [
       "(429, 5)"
      ]
     },
     "execution_count": 12,
     "metadata": {},
     "output_type": "execute_result"
    }
   ],
   "source": [
    "df_new.shape"
   ]
  },
  {
   "cell_type": "code",
   "execution_count": 3,
   "id": "ec2b5bbf-5e02-4021-ab33-abcc2e05d2aa",
   "metadata": {},
   "outputs": [
    {
     "data": {
      "text/html": [
       "<div>\n",
       "<style scoped>\n",
       "    .dataframe tbody tr th:only-of-type {\n",
       "        vertical-align: middle;\n",
       "    }\n",
       "\n",
       "    .dataframe tbody tr th {\n",
       "        vertical-align: top;\n",
       "    }\n",
       "\n",
       "    .dataframe thead th {\n",
       "        text-align: right;\n",
       "    }\n",
       "</style>\n",
       "<table border=\"1\" class=\"dataframe\">\n",
       "  <thead>\n",
       "    <tr style=\"text-align: right;\">\n",
       "      <th></th>\n",
       "      <th>0</th>\n",
       "      <th>1</th>\n",
       "    </tr>\n",
       "  </thead>\n",
       "  <tbody>\n",
       "    <tr>\n",
       "      <th>0</th>\n",
       "      <td>44</td>\n",
       "      <td>9394</td>\n",
       "    </tr>\n",
       "    <tr>\n",
       "      <th>1</th>\n",
       "      <td>44</td>\n",
       "      <td>15392</td>\n",
       "    </tr>\n",
       "    <tr>\n",
       "      <th>2</th>\n",
       "      <td>118</td>\n",
       "      <td>2705</td>\n",
       "    </tr>\n",
       "    <tr>\n",
       "      <th>3</th>\n",
       "      <td>280</td>\n",
       "      <td>22683</td>\n",
       "    </tr>\n",
       "    <tr>\n",
       "      <th>4</th>\n",
       "      <td>434</td>\n",
       "      <td>24722</td>\n",
       "    </tr>\n",
       "    <tr>\n",
       "      <th>...</th>\n",
       "      <td>...</td>\n",
       "      <td>...</td>\n",
       "    </tr>\n",
       "    <tr>\n",
       "      <th>563</th>\n",
       "      <td>34468</td>\n",
       "      <td>7035</td>\n",
       "    </tr>\n",
       "    <tr>\n",
       "      <th>564</th>\n",
       "      <td>34468</td>\n",
       "      <td>20151</td>\n",
       "    </tr>\n",
       "    <tr>\n",
       "      <th>565</th>\n",
       "      <td>34547</td>\n",
       "      <td>3916</td>\n",
       "    </tr>\n",
       "    <tr>\n",
       "      <th>566</th>\n",
       "      <td>34919</td>\n",
       "      <td>9375</td>\n",
       "    </tr>\n",
       "    <tr>\n",
       "      <th>567</th>\n",
       "      <td>34919</td>\n",
       "      <td>18302</td>\n",
       "    </tr>\n",
       "  </tbody>\n",
       "</table>\n",
       "<p>568 rows × 2 columns</p>\n",
       "</div>"
      ],
      "text/plain": [
       "         0      1\n",
       "0       44   9394\n",
       "1       44  15392\n",
       "2      118   2705\n",
       "3      280  22683\n",
       "4      434  24722\n",
       "..     ...    ...\n",
       "563  34468   7035\n",
       "564  34468  20151\n",
       "565  34547   3916\n",
       "566  34919   9375\n",
       "567  34919  18302\n",
       "\n",
       "[568 rows x 2 columns]"
      ]
     },
     "execution_count": 3,
     "metadata": {},
     "output_type": "execute_result"
    }
   ],
   "source": [
    "edges_true[~edges_true.isin(day_14_edges)].dropna()\n"
   ]
  },
  {
   "cell_type": "code",
   "execution_count": 15,
   "id": "f27d7550-f3a9-495f-a2c6-1519b421f07b",
   "metadata": {},
   "outputs": [],
   "source": [
    "all_edges = pd.read_csv(\"./data/alpha_0.35_beta_0.9_gamma_0.35_f_i_1_16_days.csv\")\n"
   ]
  },
  {
   "cell_type": "code",
   "execution_count": null,
   "id": "79c5968b-5e72-4486-9b5b-b84d4612d2ad",
   "metadata": {},
   "outputs": [],
   "source": []
  }
 ],
 "metadata": {
  "kernelspec": {
   "display_name": "Python 3 (ipykernel)",
   "language": "python",
   "name": "python3"
  },
  "language_info": {
   "codemirror_mode": {
    "name": "ipython",
    "version": 3
   },
   "file_extension": ".py",
   "mimetype": "text/x-python",
   "name": "python",
   "nbconvert_exporter": "python",
   "pygments_lexer": "ipython3",
   "version": "3.9.13"
  }
 },
 "nbformat": 4,
 "nbformat_minor": 5
}
